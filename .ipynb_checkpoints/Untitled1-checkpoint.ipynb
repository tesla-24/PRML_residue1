{
 "cells": [
  {
   "cell_type": "code",
   "execution_count": 1,
   "metadata": {},
   "outputs": [
    {
     "name": "stdout",
     "output_type": "stream",
     "text": [
      "9\n"
     ]
    }
   ],
   "source": [
    "\n",
    "def countOfSubstringWithKOnes(s, K): \n",
    "    N = len(s) \n",
    "    res = 0\n",
    "    countOfOne = 0\n",
    "    freq = [0 for i in range(N + 1)]  \n",
    "    freq[0] = 1\n",
    "  \n",
    "    for i in range(0, N, 1): \n",
    "          \n",
    "        countOfOne += ord(s[i]) - ord('0') \n",
    "\n",
    "        if (countOfOne >= K): \n",
    "            res += freq[countOfOne - K] \n",
    "        freq[countOfOne] += 1\n",
    "      \n",
    "    return res \n",
    "\n",
    "if __name__ == '__main__': \n",
    "    s = \"10010\"\n",
    "    K = 1\n",
    "    print(countOfSubstringWithKOnes(s, K)) "
   ]
  },
  {
   "cell_type": "code",
   "execution_count": 16,
   "metadata": {},
   "outputs": [
    {
     "name": "stdout",
     "output_type": "stream",
     "text": [
      "10010\n",
      "49 48 1 1\n",
      "1\n",
      "48 48 1 1\n",
      "1\n",
      "48 48 1 1\n",
      "1\n",
      "49 48 2 1\n",
      "3\n",
      "48 48 2 1\n",
      "3\n",
      "(9, [1, 3, 2, 0, 0, 0])\n"
     ]
    }
   ],
   "source": [
    "def countOfSubstringWithKOnes(s, K): \n",
    "    print(s)\n",
    "    N = len(s) \n",
    "    res = 0\n",
    "    countOfOne = 0\n",
    "    freq = [0 for i in range(N + 1)]  \n",
    "    freq[0] = 1\n",
    "  \n",
    "    for i in range(0, N, 1): \n",
    "          \n",
    "        countOfOne += ord(s[i]) - ord('0') \n",
    "        print(ord(s[i]), ord('0'), countOfOne, K)\n",
    "\n",
    "        if (countOfOne >= K): \n",
    "            for i in range(0,K):\n",
    "                print(freq[countOfOne - i-1])\n",
    "                res += freq[countOfOne - i-1]\n",
    "        freq[countOfOne] += 1\n",
    "      \n",
    "    return res, freq \n",
    "\n",
    "if __name__ == '__main__': \n",
    "    s = \"10010\"\n",
    "    K = 1\n",
    "    print(countOfSubstringWithKOnes(s, K)) "
   ]
  },
  {
   "cell_type": "code",
   "execution_count": 1,
   "metadata": {},
   "outputs": [],
   "source": [
    "n = 5\n",
    "k = [4,5,5,2,4]\n",
    "\n",
    "\n"
   ]
  },
  {
   "cell_type": "code",
   "execution_count": 7,
   "metadata": {},
   "outputs": [],
   "source": [
    "s1 = k.sort"
   ]
  },
  {
   "cell_type": "code",
   "execution_count": 5,
   "metadata": {},
   "outputs": [],
   "source": []
  },
  {
   "cell_type": "code",
   "execution_count": null,
   "metadata": {},
   "outputs": [],
   "source": []
  },
  {
   "cell_type": "code",
   "execution_count": 44,
   "metadata": {},
   "outputs": [],
   "source": [
    "def functt(s, k , CharValue):\n",
    "    alphabets = ['a','b','c','d','e','f','g','h','i','j','k','l','m','n','o','p','q','r','s','t','u','v','w','x','y','z']\n",
    "    normal  = []\n",
    "    chars = list(CharValue)\n",
    "    for i in range(len(chars)):\n",
    "        if (chars[i]=='0'):\n",
    "            normal.append(alphabets[i])\n",
    "            \n",
    "    if (k == 0): \n",
    "        return 0\n",
    "    \n",
    "    count = 0\n",
    "    l = 0\n",
    "    r = 0\n",
    "    longest_length = 0\n",
    "    \n",
    "    while (r < len(s)): \n",
    "        while (r < len(s) and count <= k): \n",
    "            if (s[r] in normal):  \n",
    "                if (count + 1 > k): \n",
    "                    break\n",
    "                else: \n",
    "                    count += 1\n",
    "            r += 1\n",
    "            if (count <= k): \n",
    "                longest_length = max(longest_length, r - l) \n",
    "                \n",
    "        while (l < r): \n",
    "                l += 1 \n",
    "                if (s[l] in normal): \n",
    "                    count -= 1\n",
    "                if (count < k): \n",
    "                    break\n",
    "  \n",
    "    return longest_length\n",
    "    "
   ]
  },
  {
   "cell_type": "code",
   "execution_count": 45,
   "metadata": {},
   "outputs": [
    {
     "data": {
      "text/plain": [
       "3"
      ]
     },
     "execution_count": 45,
     "metadata": {},
     "output_type": "execute_result"
    }
   ],
   "source": [
    "s = 'giraffe'\n",
    "k=2\n",
    "ch = '01111001111111111011111111'\n",
    "functt(s,k,ch)"
   ]
  },
  {
   "cell_type": "code",
   "execution_count": 40,
   "metadata": {},
   "outputs": [
    {
     "data": {
      "text/plain": [
       "'ab'"
      ]
     },
     "execution_count": 40,
     "metadata": {},
     "output_type": "execute_result"
    }
   ],
   "source": [
    "s[:2]"
   ]
  },
  {
   "cell_type": "code",
   "execution_count": 34,
   "metadata": {},
   "outputs": [
    {
     "data": {
      "text/plain": [
       "'abcf'"
      ]
     },
     "execution_count": 34,
     "metadata": {},
     "output_type": "execute_result"
    }
   ],
   "source": [
    "s"
   ]
  },
  {
   "cell_type": "code",
   "execution_count": 35,
   "metadata": {},
   "outputs": [
    {
     "data": {
      "text/plain": [
       "['a', 'b', 'c', 'f']"
      ]
     },
     "execution_count": 35,
     "metadata": {},
     "output_type": "execute_result"
    }
   ],
   "source": [
    "list(s)"
   ]
  },
  {
   "cell_type": "code",
   "execution_count": 36,
   "metadata": {},
   "outputs": [
    {
     "data": {
      "text/plain": [
       "['d', 'e']"
      ]
     },
     "execution_count": 36,
     "metadata": {},
     "output_type": "execute_result"
    }
   ],
   "source": [
    "functt('adb',2,'11100111111111111')"
   ]
  },
  {
   "cell_type": "code",
   "execution_count": null,
   "metadata": {},
   "outputs": [],
   "source": []
  },
  {
   "cell_type": "code",
   "execution_count": null,
   "metadata": {},
   "outputs": [],
   "source": []
  }
 ],
 "metadata": {
  "kernelspec": {
   "display_name": "Python 3",
   "language": "python",
   "name": "python3"
  },
  "language_info": {
   "codemirror_mode": {
    "name": "ipython",
    "version": 3
   },
   "file_extension": ".py",
   "mimetype": "text/x-python",
   "name": "python",
   "nbconvert_exporter": "python",
   "pygments_lexer": "ipython3",
   "version": "3.6.6"
  }
 },
 "nbformat": 4,
 "nbformat_minor": 2
}
