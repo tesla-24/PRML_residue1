{
 "cells": [
  {
   "cell_type": "code",
   "execution_count": 10,
   "metadata": {
    "colab": {},
    "colab_type": "code",
    "collapsed": true,
    "id": "_huNREZF28PJ"
   },
   "outputs": [],
   "source": [
    "import numpy as np\n",
    "np.random.seed(22123)\n",
    "np.set_printoptions(precision=3)\n",
    "import matplotlib.pyplot as plt\n",
    "from cvxopt import matrix, solvers\n"
   ]
  },
  {
   "cell_type": "code",
   "execution_count": 11,
   "metadata": {
    "colab": {},
    "colab_type": "code",
    "id": "qaGQ9tbn28PQ",
    "outputId": "cff73378-9659-41cb-bb4f-c6130f4d42da"
   },
   "outputs": [
    {
     "name": "stdout",
     "output_type": "stream",
     "text": [
      "w_temp= [-0.501 -0.306  0.397  0.757]\n",
      "indices= [881 212 350  74]\n",
      "--------------------------------\n"
     ]
    }
   ],
   "source": [
    "data_dim = 1000\n",
    "num_data = 50\n",
    "num_test_data=50\n",
    "sparsity = 4\n",
    "\n",
    "w_temp = 0.5*np.random.randn(sparsity)\n",
    "indices = np.random.choice(data_dim, sparsity, replace=False)\n",
    "w_star=np.zeros(data_dim)\n",
    "w_star[indices]=w_temp\n",
    "\n",
    "data_matrix = np.random.randn(num_data, data_dim)\n",
    "labels = np.dot(data_matrix, w_star) + 0.05*np.random.randn(num_data)\n",
    "\n",
    "data_matrix_test = np.random.randn(num_test_data, data_dim)\n",
    "labels_test = np.dot(data_matrix_test, w_star) + 0.05*np.random.randn(num_test_data)\n",
    "\n",
    "print('w_temp=',w_temp)\n",
    "print('indices=', indices)\n",
    "print('--------------------------------')\n",
    "\n",
    "\n",
    "\n",
    "Hessian = np.dot(data_matrix.T, data_matrix)\n",
    "eig_vals, eig_vecs = np.linalg.eig(Hessian)\n",
    "smoothness_coeff = np.real(np.max(eig_vals))\n",
    "# print(smoothness_coeff)\n",
    "\n"
   ]
  },
  {
   "cell_type": "code",
   "execution_count": 12,
   "metadata": {
    "colab": {},
    "colab_type": "code",
    "collapsed": true,
    "id": "tCn3TCVP28PX"
   },
   "outputs": [],
   "source": [
    "def get_value(w):\n",
    "    return (0.5/len(data_matrix))*(np.linalg.norm(np.dot(data_matrix,w)-labels))**2\n",
    "\n",
    "def get_value_test(w):\n",
    "    return (0.5/len(data_matrix_test))*(np.linalg.norm(np.dot(data_matrix_test,w)-labels_test))**2\n",
    "\n",
    "\n",
    "def get_gradient(w):\n",
    "    return np.dot(Hessian,w) - np.dot(data_matrix.T,labels)\n",
    "\n",
    "def projection_oracle_l2(w, l2_norm):\n",
    "    return (l2_norm/np.linalg.norm(w))*w\n",
    "\n",
    "def projection_oracle_l1(w, l1_norm):\n",
    "    # first remeber signs and store them. Modify w \n",
    "    signs = np.sign(w)\n",
    "    w = w*signs\n",
    "    # project this modified w onto the simplex in first orthant.\n",
    "    d=len(w)\n",
    "    if np.sum(w)<=l1_norm:\n",
    "        return w*signs\n",
    "    \n",
    "    for i in range(d):\n",
    "        w_next = w+0\n",
    "        w_next[w>1e-7] = w[w>1e-7] - np.min(w[w>1e-7])\n",
    "        if np.sum(w_next)<=l1_norm:\n",
    "            w = ((l1_norm - np.sum(w_next))*w + (np.sum(w) - l1_norm)*w_next)/(np.sum(w)-np.sum(w_next))\n",
    "            return w*signs\n",
    "        else:\n",
    "            w=w_next\n",
    "    \n",
    "    \n",
    "    \n",
    "    \n"
   ]
  },
  {
   "cell_type": "markdown",
   "metadata": {},
   "source": [
    "# LASSO Regression"
   ]
  },
  {
   "cell_type": "code",
   "execution_count": 14,
   "metadata": {},
   "outputs": [
    {
     "name": "stdout",
     "output_type": "stream",
     "text": [
      "Train error before training= 479.12543535610143\n",
      "Test error before training= 601.9086200755523\n",
      "--------------------------------\n",
      "--------------------------------\n",
      "Train error after training= 4.92454508989983e-31\n",
      "Test error after training= 3.223027843431874\n",
      "--------------------------------\n",
      "Top w_star indices= [ 74 881 350 212 330]\n",
      "Top w_star values= [ 0.757 -0.501  0.397 -0.306  0.   ]\n",
      "--------------------------------\n",
      "Top w indices= [125 548 297 452 684 510 258 188 185]\n",
      "Top w values= [-1.399 -0.753 -0.634 -0.591  0.54   0.47  -0.464 -0.404 -0.391]\n"
     ]
    }
   ],
   "source": [
    "eta=1/smoothness_coeff\n",
    "w=np.random.randn(data_dim)\n",
    "l1_norm_constraint = 16.\n",
    "\n",
    "print('Train error before training=', get_value(w))\n",
    "print('Test error before training=', get_value_test(w))\n",
    "print('--------------------------------')\n",
    "for i in range(1000):\n",
    "    w = w - eta*get_gradient(w)\n",
    "    w = projection_oracle_l1(w, l1_norm_constraint)\n",
    "print('--------------------------------')\n",
    "print('Train error after training=', get_value(w))\n",
    "print('Test error after training=', get_value_test(w))\n",
    "\n",
    "\n",
    "top_w_star_indices=np.argsort(np.abs(w_star))[-1:-6:-1]\n",
    "print('--------------------------------')\n",
    "print('Top w_star indices=',top_w_star_indices)\n",
    "print('Top w_star values=',w_star[top_w_star_indices])\n",
    "\n",
    "top_w_indices=np.argsort(np.abs(w))[-1:-10:-1]\n",
    "print('--------------------------------')\n",
    "print('Top w indices=',top_w_indices)\n",
    "print('Top w values=',w[top_w_indices])\n"
   ]
  },
  {
   "cell_type": "code",
   "execution_count": 15,
   "metadata": {},
   "outputs": [
    {
     "name": "stdout",
     "output_type": "stream",
     "text": [
      "Train error before training= 450.7824212930433\n",
      "Test error before training= 562.1959585804235\n",
      "--------------------------------\n",
      "--------------------------------\n",
      "Train error after training= 8.884748167695808e-32\n",
      "Test error after training= 1.0044813082984805\n",
      "--------------------------------\n",
      "Top w_star indices= [ 74 881 350 212 330]\n",
      "Top w_star values= [ 0.757 -0.501  0.397 -0.306  0.   ]\n",
      "--------------------------------\n",
      "Top w indices= [ 24 194 740 727 400]\n",
      "Top w values= [ 0.338 -0.321 -0.294 -0.294 -0.285]\n"
     ]
    }
   ],
   "source": [
    "eta=1/smoothness_coeff\n",
    "w=np.random.randn(data_dim)\n",
    "l1_norm_constraint = 8.\n",
    "\n",
    "print('Train error before training=', get_value(w))\n",
    "print('Test error before training=', get_value_test(w))\n",
    "print('--------------------------------')\n",
    "for i in range(1000):\n",
    "    w = w - eta*get_gradient(w)\n",
    "    w = projection_oracle_l1(w, l1_norm_constraint)\n",
    "print('--------------------------------')\n",
    "print('Train error after training=', get_value(w))\n",
    "print('Test error after training=', get_value_test(w))\n",
    "\n",
    "\n",
    "top_w_star_indices=np.argsort(np.abs(w_star))[-1:-6:-1]\n",
    "print('--------------------------------')\n",
    "print('Top w_star indices=',top_w_star_indices)\n",
    "print('Top w_star values=',w_star[top_w_star_indices])\n",
    "\n",
    "top_w_indices=np.argsort(np.abs(w))[-1:-6:-1]\n",
    "print('--------------------------------')\n",
    "print('Top w indices=',top_w_indices)\n",
    "print('Top w values=',w[top_w_indices])\n"
   ]
  },
  {
   "cell_type": "code",
   "execution_count": 16,
   "metadata": {
    "colab": {},
    "colab_type": "code",
    "id": "tcEmgcM_28Pc",
    "outputId": "3e04373d-f399-40e8-b86d-a6357a122205"
   },
   "outputs": [
    {
     "name": "stdout",
     "output_type": "stream",
     "text": [
      "Train error before training= 490.52161187923144\n",
      "Test error before training= 438.6718076372883\n",
      "--------------------------------\n",
      "--------------------------------\n",
      "Train error after training= 3.815215154152424e-22\n",
      "Test error after training= 0.44015008073504713\n",
      "--------------------------------\n",
      "Top w_star indices= [ 74 881 350 212 330]\n",
      "Top w_star values= [ 0.757 -0.501  0.397 -0.306  0.   ]\n",
      "--------------------------------\n",
      "Top w indices= [231 583 812  74 833]\n",
      "Top w values= [ 0.221  0.215 -0.158  0.142 -0.123]\n"
     ]
    }
   ],
   "source": [
    "\n",
    "eta=1/smoothness_coeff\n",
    "w=np.random.randn(data_dim)\n",
    "l1_norm_constraint = 4.\n",
    "\n",
    "print('Train error before training=', get_value(w))\n",
    "print('Test error before training=', get_value_test(w))\n",
    "print('--------------------------------')\n",
    "for i in range(1000):\n",
    "    w = w - eta*get_gradient(w)\n",
    "    w = projection_oracle_l1(w, l1_norm_constraint)\n",
    "print('--------------------------------')\n",
    "print('Train error after training=', get_value(w))\n",
    "print('Test error after training=', get_value_test(w))\n",
    "\n",
    "top_w_star_indices=np.argsort(np.abs(w_star))[-1:-6:-1]\n",
    "print('--------------------------------')\n",
    "print('Top w_star indices=',top_w_star_indices)\n",
    "print('Top w_star values=',w_star[top_w_star_indices])\n",
    "\n",
    "top_w_indices=np.argsort(np.abs(w))[-1:-6:-1]\n",
    "print('--------------------------------')\n",
    "print('Top w indices=',top_w_indices)\n",
    "print('Top w values=',w[top_w_indices])\n"
   ]
  },
  {
   "cell_type": "code",
   "execution_count": 17,
   "metadata": {},
   "outputs": [
    {
     "name": "stdout",
     "output_type": "stream",
     "text": [
      "Train error before training= 421.8114345161588\n",
      "Test error before training= 459.8890132596082\n",
      "--------------------------------\n",
      "--------------------------------\n",
      "Train error after training= 0.0007344063920391415\n",
      "Test error after training= 0.011220527811592393\n",
      "--------------------------------\n",
      "Top w_star indices= [ 74 881 350 212 330]\n",
      "Top w_star values= [ 0.757 -0.501  0.397 -0.306  0.   ]\n",
      "--------------------------------\n",
      "Top w indices= [ 74 881 350 212 454]\n",
      "Top w values= [ 0.661 -0.438  0.342 -0.274 -0.026]\n"
     ]
    }
   ],
   "source": [
    "eta=1/smoothness_coeff\n",
    "w=np.random.randn(data_dim)\n",
    "l1_norm_constraint = 2.\n",
    "\n",
    "print('Train error before training=', get_value(w))\n",
    "print('Test error before training=', get_value_test(w))\n",
    "print('--------------------------------')\n",
    "for i in range(1000):\n",
    "    w = w - eta*get_gradient(w)\n",
    "    w = projection_oracle_l1(w, l1_norm_constraint)\n",
    "print('--------------------------------')\n",
    "print('Train error after training=', get_value(w))\n",
    "print('Test error after training=', get_value_test(w))\n",
    "\n",
    "top_w_star_indices=np.argsort(np.abs(w_star))[-1:-6:-1]\n",
    "print('--------------------------------')\n",
    "print('Top w_star indices=',top_w_star_indices)\n",
    "print('Top w_star values=',w_star[top_w_star_indices])\n",
    "\n",
    "top_w_indices=np.argsort(np.abs(w))[-1:-6:-1]\n",
    "print('--------------------------------')\n",
    "print('Top w indices=',top_w_indices)\n",
    "print('Top w values=',w[top_w_indices])\n"
   ]
  },
  {
   "cell_type": "code",
   "execution_count": 18,
   "metadata": {},
   "outputs": [
    {
     "name": "stdout",
     "output_type": "stream",
     "text": [
      "Train error before training= 392.4800403384036\n",
      "Test error before training= 728.0424724238342\n",
      "--------------------------------\n",
      "--------------------------------\n",
      "Train error after training= 0.11088626315549693\n",
      "Test error after training= 0.12964299045432098\n",
      "--------------------------------\n",
      "Top w_star indices= [ 74 881 350 212 330]\n",
      "Top w_star values= [ 0.757 -0.501  0.397 -0.306  0.   ]\n",
      "--------------------------------\n",
      "Top w indices= [ 74 881 350 212 227]\n",
      "Top w values= [ 0.471 -0.268  0.137 -0.071  0.023]\n"
     ]
    }
   ],
   "source": [
    "eta=1/smoothness_coeff\n",
    "w=np.random.randn(data_dim)\n",
    "l1_norm_constraint = 1.\n",
    "\n",
    "print('Train error before training=', get_value(w))\n",
    "print('Test error before training=', get_value_test(w))\n",
    "print('--------------------------------')\n",
    "for i in range(1000):\n",
    "    w = w - eta*get_gradient(w)\n",
    "    w = projection_oracle_l1(w, l1_norm_constraint)\n",
    "print('--------------------------------')\n",
    "print('Train error after training=', get_value(w))\n",
    "print('Test error after training=', get_value_test(w))\n",
    "\n",
    "top_w_star_indices=np.argsort(np.abs(w_star))[-1:-6:-1]\n",
    "print('--------------------------------')\n",
    "print('Top w_star indices=',top_w_star_indices)\n",
    "print('Top w_star values=',w_star[top_w_star_indices])\n",
    "\n",
    "top_w_indices=np.argsort(np.abs(w))[-1:-6:-1]\n",
    "print('--------------------------------')\n",
    "print('Top w indices=',top_w_indices)\n",
    "print('Top w values=',w[top_w_indices])\n"
   ]
  },
  {
   "cell_type": "code",
   "execution_count": 19,
   "metadata": {},
   "outputs": [
    {
     "name": "stdout",
     "output_type": "stream",
     "text": [
      "Train error before training= 615.5203945818723\n",
      "Test error before training= 483.6011666243254\n",
      "--------------------------------\n",
      "--------------------------------\n",
      "Train error after training= 0.25328341100762575\n",
      "Test error after training= 0.29791024809082145\n",
      "--------------------------------\n",
      "Top w_star indices= [ 74 881 350 212 330]\n",
      "Top w_star values= [ 0.757 -0.501  0.397 -0.306  0.   ]\n",
      "--------------------------------\n",
      "Top w indices= [ 74 881 941 227 564]\n",
      "Top w values= [ 3.028e-01 -1.383e-01  3.445e-02  2.443e-02 -9.081e-08]\n"
     ]
    }
   ],
   "source": [
    "eta=1/smoothness_coeff\n",
    "w=np.random.randn(data_dim)\n",
    "l1_norm_constraint = 0.5\n",
    "\n",
    "print('Train error before training=', get_value(w))\n",
    "print('Test error before training=', get_value_test(w))\n",
    "print('--------------------------------')\n",
    "for i in range(1000):\n",
    "    w = w - eta*get_gradient(w)\n",
    "    w = projection_oracle_l1(w, l1_norm_constraint)\n",
    "print('--------------------------------')\n",
    "print('Train error after training=', get_value(w))\n",
    "print('Test error after training=', get_value_test(w))\n",
    "\n",
    "top_w_star_indices=np.argsort(np.abs(w_star))[-1:-6:-1]\n",
    "print('--------------------------------')\n",
    "print('Top w_star indices=',top_w_star_indices)\n",
    "print('Top w_star values=',w_star[top_w_star_indices])\n",
    "\n",
    "top_w_indices=np.argsort(np.abs(w))[-1:-6:-1]\n",
    "print('--------------------------------')\n",
    "print('Top w indices=',top_w_indices)\n",
    "print('Top w values=',w[top_w_indices])\n"
   ]
  },
  {
   "cell_type": "code",
   "execution_count": null,
   "metadata": {
    "collapsed": true
   },
   "outputs": [],
   "source": []
  },
  {
   "cell_type": "markdown",
   "metadata": {},
   "source": [
    "# Ridge Regression"
   ]
  },
  {
   "cell_type": "code",
   "execution_count": 31,
   "metadata": {},
   "outputs": [
    {
     "name": "stdout",
     "output_type": "stream",
     "text": [
      "Train error before training= 454.58008452207963\n",
      "Test error before training= 446.9358655173345\n",
      "--------------------------------\n",
      "--------------------------------\n",
      "Train error after training= 0.44907235318305566\n",
      "Test error after training= 0.5151819733370993\n",
      "--------------------------------\n",
      "Top w_star indices= [ 74 881 350 212 330]\n",
      "Top w_star values= [ 0.757 -0.501  0.397 -0.306  0.   ]\n",
      "--------------------------------\n",
      "Top w indices= [ 74 941 227 454 881]\n",
      "Top w values= [ 0.001  0.001  0.001 -0.001 -0.001]\n"
     ]
    }
   ],
   "source": [
    "## eta=1/smoothness_coeff\n",
    "w=np.random.randn(data_dim)\n",
    "l2_norm_constraint = 0.01\n",
    "\n",
    "print('Train error before training=', get_value(w))\n",
    "print('Test error before training=', get_value_test(w))\n",
    "print('--------------------------------')\n",
    "for i in range(1000):\n",
    "    w = w - eta*get_gradient(w)\n",
    "    if np.linalg.norm(w)>l2_norm_constraint:\n",
    "        w = w*l2_norm_constraint/np.linalg.norm(w)\n",
    "print('--------------------------------')\n",
    "\n",
    "print('Train error after training=', get_value(w))\n",
    "print('Test error after training=', get_value_test(w))\n",
    "\n",
    "\n",
    "top_w_star_indices=np.argsort(np.abs(w_star))[-1:-6:-1]\n",
    "print('--------------------------------')\n",
    "print('Top w_star indices=',top_w_star_indices)\n",
    "print('Top w_star values=',w_star[top_w_star_indices])\n",
    "\n",
    "top_w_indices=np.argsort(np.abs(w))[-1:-6:-1]\n",
    "print('--------------------------------')\n",
    "print('Top w indices=',top_w_indices)\n",
    "print('Top w values=',w[top_w_indices])\n"
   ]
  },
  {
   "cell_type": "code",
   "execution_count": null,
   "metadata": {
    "collapsed": true
   },
   "outputs": [],
   "source": []
  }
 ],
 "metadata": {
  "colab": {
   "name": "Lasso Regression.ipynb",
   "provenance": [],
   "version": "0.3.2"
  },
  "kernelspec": {
   "display_name": "Python 3",
   "language": "python",
   "name": "python3"
  },
  "language_info": {
   "codemirror_mode": {
    "name": "ipython",
    "version": 3
   },
   "file_extension": ".py",
   "mimetype": "text/x-python",
   "name": "python",
   "nbconvert_exporter": "python",
   "pygments_lexer": "ipython3",
   "version": "3.6.6"
  }
 },
 "nbformat": 4,
 "nbformat_minor": 1
}
