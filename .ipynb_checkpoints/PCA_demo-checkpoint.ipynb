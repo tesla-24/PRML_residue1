{
 "cells": [
  {
   "cell_type": "code",
   "execution_count": 19,
   "metadata": {
    "collapsed": true
   },
   "outputs": [],
   "source": [
    "import numpy as np\n",
    "from sklearn.datasets import load_digits\n",
    "import matplotlib.pyplot as plt"
   ]
  },
  {
   "cell_type": "code",
   "execution_count": 20,
   "metadata": {},
   "outputs": [],
   "source": [
    "dataset = load_digits()"
   ]
  },
  {
   "cell_type": "code",
   "execution_count": 21,
   "metadata": {},
   "outputs": [
    {
     "name": "stdout",
     "output_type": "stream",
     "text": [
      "(1797,)\n",
      "(1797, 64)\n"
     ]
    }
   ],
   "source": [
    "print(dataset.target.shape)\n",
    "print(dataset.data.shape)\n",
    "\n",
    "X=dataset.data\n",
    "\n"
   ]
  },
  {
   "cell_type": "code",
   "execution_count": 22,
   "metadata": {},
   "outputs": [
    {
     "name": "stdout",
     "output_type": "stream",
     "text": [
      "3\n"
     ]
    },
    {
     "data": {
      "text/plain": [
       "<matplotlib.colorbar.Colorbar at 0x1136a10b8>"
      ]
     },
     "execution_count": 22,
     "metadata": {},
     "output_type": "execute_result"
    },
    {
     "data": {
      "image/png": "[encoded data removed]",
      "text/plain": [
       "<Figure size 432x288 with 2 Axes>"
      ]
     },
     "metadata": {},
     "output_type": "display_data"
    }
   ],
   "source": [
    "index=789\n",
    "print(Y[index])\n",
    "plt.imshow(X[index].reshape(8,8))\n",
    "plt.colorbar()"
   ]
  },
  {
   "cell_type": "code",
   "execution_count": 37,
   "metadata": {},
   "outputs": [],
   "source": [
    "X_bar = np.mean(X,axis=0)[None,:] # Sample mean\n",
    "S = np.dot(X.T-X_bar.T , X-X_bar)/len(X) # Compute covariance matrix\n"
   ]
  },
  {
   "cell_type": "code",
   "execution_count": 38,
   "metadata": {},
   "outputs": [
    {
     "name": "stdout",
     "output_type": "stream",
     "text": [
      "(64, 64)\n"
     ]
    }
   ],
   "source": [
    "print(S.shape)"
   ]
  },
  {
   "cell_type": "code",
   "execution_count": 71,
   "metadata": {
    "scrolled": true
   },
   "outputs": [
    {
     "name": "stdout",
     "output_type": "stream",
     "text": [
      "[1.78907316e+02 1.63626641e+02 1.41709536e+02 1.01044115e+02\n",
      " 6.94744827e+01 5.90756320e+01 5.18556662e+01 4.39906130e+01\n",
      " 4.02885629e+01 3.69912020e+01 2.85031708e+01 2.73059660e+01\n",
      " 2.18893003e+01 2.13124899e+01 1.76269077e+01 1.69374332e+01\n",
      " 1.58425689e+01 1.49961105e+01 1.22276649e+01 1.08808010e+01\n",
      " 1.06876155e+01 9.57726524e+00 9.22126826e+00 8.68553268e+00\n",
      " 8.36095658e+00 7.16179198e+00 6.91588809e+00 6.18950881e+00\n",
      " 5.88171633e+00 5.15299774e+00 4.48879723e+00 4.24451468e+00\n",
      " 4.04518650e+00 3.94120891e+00 3.70440987e+00 3.52968776e+00\n",
      " 3.08285758e+00 2.73627648e+00 2.67062197e+00 2.54029121e+00\n",
      " 2.28171700e+00 1.90618094e+00 1.81615447e+00 1.68902395e+00\n",
      " 1.40119202e+00 1.29149979e+00 1.15828926e+00 9.30701800e-01\n",
      " 6.69477833e-01 4.85794730e-01 2.52210004e-01 9.90976176e-02\n",
      " 6.30956535e-02 6.07039586e-02 3.96441561e-02 1.49422438e-02\n",
      " 8.46835749e-03 3.62164306e-03 1.27634048e-03 6.60902920e-04\n",
      " 4.11993910e-04 0.00000000e+00 0.00000000e+00 0.00000000e+00]\n"
     ]
    }
   ],
   "source": [
    "eigenvals,eigenvecs = np.linalg.eig(S)\n",
    "print(eigenvals) # Check if eigen vals are sorted in descending order"
   ]
  },
  {
   "cell_type": "code",
   "execution_count": 26,
   "metadata": {},
   "outputs": [
    {
     "data": {
      "text/plain": [
       "1.7436018532705058e-12"
      ]
     },
     "execution_count": 26,
     "metadata": {},
     "output_type": "execute_result"
    }
   ],
   "source": [
    "np.linalg.norm(S- np.dot(eigenvecs , np.dot(np.diag(eigenvals),eigenvecs.T) )) # Check if S=V*Lambda*V^T"
   ]
  },
  {
   "cell_type": "code",
   "execution_count": 74,
   "metadata": {
    "collapsed": true
   },
   "outputs": [],
   "source": [
    "M=32\n",
    "D=64\n",
    "N=len(X)\n",
    "U = np.array(eigenvecs) # Columns of U form the principal components.\n",
    "\n",
    "# Check out other solutions (corresponding to different affine spaces and see how they perform)\n",
    "# U = np.random.randn(D,D)\n",
    "# Q,R = np.linalg.qr(U) # QR decomposition\n",
    "# U = np.array(Q) # Now U is some random orthonormal basis."
   ]
  },
  {
   "cell_type": "code",
   "execution_count": 75,
   "metadata": {
    "collapsed": true
   },
   "outputs": [],
   "source": [
    "Z = np.zeros((N,M)) \n",
    "b = np.zeros(D)"
   ]
  },
  {
   "cell_type": "code",
   "execution_count": 76,
   "metadata": {},
   "outputs": [],
   "source": [
    "for n in range(N):\n",
    "    for i in range(M):\n",
    "        Z[n,i]= np.dot(X[n],U[:,i])\n",
    "        \n",
    "for i in range(M,D):\n",
    "    b[i] = np.dot(X_bar,U[:,i])\n",
    "    "
   ]
  },
  {
   "cell_type": "code",
   "execution_count": 78,
   "metadata": {},
   "outputs": [
    {
     "name": "stdout",
     "output_type": "stream",
     "text": [
      "(1797, 32)\n",
      "(64,)\n",
      "(64, 64)\n"
     ]
    }
   ],
   "source": [
    "# Compression is now done. X_tilde is reconstructed only from Z,b and u now.\n",
    "print(Z.shape)\n",
    "print(b.shape)\n",
    "print(U.shape)"
   ]
  },
  {
   "cell_type": "code",
   "execution_count": 79,
   "metadata": {},
   "outputs": [
    {
     "name": "stdout",
     "output_type": "stream",
     "text": [
      "(1797, 64)\n"
     ]
    }
   ],
   "source": [
    "# Reconstruct X_tilde\n",
    "\n",
    "X_tilde = np.zeros(X.shape)\n",
    "\n",
    "for n in range(N):\n",
    "    for i in range(M):\n",
    "        X_tilde[n,:] += Z[n,i]*U[:,i].T\n",
    "        \n",
    "    for i in range(M,D):\n",
    "        X_tilde[n,:] += b[i]*U[:,i].T\n",
    "        \n",
    "        \n",
    "print(X_tilde.shape)\n",
    "        \n"
   ]
  },
  {
   "cell_type": "code",
   "execution_count": 70,
   "metadata": {},
   "outputs": [
    {
     "name": "stdout",
     "output_type": "stream",
     "text": [
      "4\n"
     ]
    },
    {
     "data": {
      "text/plain": [
       "<matplotlib.colorbar.Colorbar at 0x1a218cc940>"
      ]
     },
     "execution_count": 70,
     "metadata": {},
     "output_type": "execute_result"
    },
    {
     "data": {
      "image/png": "[encoded data removed]",
      "text/plain": [
       "<Figure size 432x288 with 2 Axes>"
      ]
     },
     "metadata": {},
     "output_type": "display_data"
    },
    {
     "data": {
      "image/png": "[encoded data removed]",
      "text/plain": [
       "<Figure size 432x288 with 2 Axes>"
      ]
     },
     "metadata": {},
     "output_type": "display_data"
    }
   ],
   "source": [
    "# Comparatively visualise X and X_tilde to see how good the approximation is\n",
    "index=68\n",
    "print(Y[index])\n",
    "\n",
    "plt.figure()\n",
    "plt.title(\"Original data X visualised\")\n",
    "plt.imshow(X[index].reshape(8,8))\n",
    "plt.colorbar()\n",
    "\n",
    "plt.figure()\n",
    "plt.title(\"X_tilde visualised with M = \"+str(M))\n",
    "plt.imshow(X_tilde[index].reshape(8,8))\n",
    "plt.colorbar()\n"
   ]
  },
  {
   "cell_type": "code",
   "execution_count": 50,
   "metadata": {},
   "outputs": [
    {
     "name": "stdout",
     "output_type": "stream",
     "text": [
      "314.51497124229667\n"
     ]
    }
   ],
   "source": [
    "# Compute average squared distance\n",
    "avg_sqd_distance = np.sum((X-X_tilde)**2)/len(X)\n",
    "print(avg_sqd_distance)"
   ]
  },
  {
   "cell_type": "code",
   "execution_count": 51,
   "metadata": {},
   "outputs": [
    {
     "data": {
      "text/plain": [
       "314.5149712422969"
      ]
     },
     "execution_count": 51,
     "metadata": {},
     "output_type": "execute_result"
    }
   ],
   "source": [
    "# Best solution has average squared distance equal to sum of last D-M eigen values of S\n",
    "np.sum(eigenvals[M:D])"
   ]
  },
  {
   "cell_type": "code",
   "execution_count": null,
   "metadata": {
    "collapsed": true
   },
   "outputs": [],
   "source": []
  }
 ],
 "metadata": {
  "kernelspec": {
   "display_name": "Python 3",
   "language": "python",
   "name": "python3"
  },
  "language_info": {
   "codemirror_mode": {
    "name": "ipython",
    "version": 3
   },
   "file_extension": ".py",
   "mimetype": "text/x-python",
   "name": "python",
   "nbconvert_exporter": "python",
   "pygments_lexer": "ipython3",
   "version": "3.6.6"
  }
 },
 "nbformat": 4,
 "nbformat_minor": 2
}
