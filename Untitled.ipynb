{
 "cells": [
  {
   "cell_type": "code",
   "execution_count": 64,
   "metadata": {},
   "outputs": [],
   "source": [
    "N = 2\n",
    "T= 1\n",
    "import time"
   ]
  },
  {
   "cell_type": "code",
   "execution_count": 74,
   "metadata": {},
   "outputs": [
    {
     "name": "stdout",
     "output_type": "stream",
     "text": [
      "1.5\n",
      "0\n"
     ]
    }
   ],
   "source": [
    "N = 8\n",
    "T= 1\n",
    "count = 1\n",
    "while(1):\n",
    "    if(N==2):\n",
    "        break\n",
    "    if (N==3):\n",
    "        count = count +1\n",
    "        break\n",
    "    N = int(N/2) + N%2\n",
    "    #print('current N',N)\n",
    "    count = count +1\n",
    "\n",
    "print(count * 0.5)         \n",
    "if(count * 0.5 > T):\n",
    "    print(0)\n",
    "else:\n",
    "    print(1)"
   ]
  },
  {
   "cell_type": "code",
   "execution_count": 17,
   "metadata": {},
   "outputs": [
    {
     "name": "stdout",
     "output_type": "stream",
     "text": [
      "23\n"
     ]
    }
   ],
   "source": [
    "\n",
    "# Python program to find n-th stair   \n",
    "# using step size 1 or 2 or 3. \n",
    "  \n",
    "# Returns count of ways to reach n-th  \n",
    "# stair using 1 or 2 or 3 steps. \n",
    "\n",
    "def findStep( N) :\n",
    "    count = 0\n",
    "    \n",
    "    if (N == 1 or N == 0) : \n",
    "        return 1\n",
    "    elif (N == 2) : \n",
    "        return 2\n",
    "    elif(N==3):\n",
    "        count=count+1\n",
    "        return 1\n",
    "        \n",
    "      \n",
    "    else : \n",
    "        if(count<=K):\n",
    "            return findStep(N - 3) + findStep(N- 2) + findStep(N - 1) \n",
    "        else:\n",
    "            return findStep(N - 2) + findStep(N - 1)  \n",
    "  \n",
    "  \n",
    "# Driver code \n",
    "#n = 4\n",
    "N = 7\n",
    "K= 3\n",
    "print(findStep(N)) \n"
   ]
  },
  {
   "cell_type": "code",
   "execution_count": 9,
   "metadata": {},
   "outputs": [
    {
     "name": "stdout",
     "output_type": "stream",
     "text": [
      "24\n"
     ]
    }
   ],
   "source": [
    "\n",
    "def countWays(n) : \n",
    "    res = [0] * (n + 1) \n",
    "    res[0] = 1\n",
    "    res[1] = 1\n",
    "    res[2] = 2\n",
    "      \n",
    "    for i in range(3, n + 1) : \n",
    "        res[i] = res[i - 1] + res[i - 2] + res[i - 3] \n",
    "      \n",
    "    return res[n] \n",
    "  \n",
    "# Driver code \n",
    "n = 6\n",
    "print(countWays(n)) \n",
    "  \n",
    "  \n",
    "# This code is contributed by Nikita Tiwari. "
   ]
  },
  {
   "cell_type": "code",
   "execution_count": 21,
   "metadata": {},
   "outputs": [
    {
     "name": "stdout",
     "output_type": "stream",
     "text": [
      "44\n"
     ]
    }
   ],
   "source": [
    "def findStep( n, step) : \n",
    "    if (n == 1 or n == 0) : \n",
    "        return 1\n",
    "    elif (n == 2) : \n",
    "        return 2\n",
    "      \n",
    "    else : \n",
    "        return findStep(n ,3) + findStep(n ,2) + findStep(n, 1)  \n",
    "  \n",
    "  \n",
    "# Driver code \n",
    "n = 7\n",
    "print(findStep(n)) "
   ]
  },
  {
   "cell_type": "code",
   "execution_count": 49,
   "metadata": {},
   "outputs": [
    {
     "name": "stdout",
     "output_type": "stream",
     "text": [
      "current step  0\n",
      "current_no_of_three 0\n",
      "current no added of three  0\n",
      "1\n",
      "******************* no of three 0\n",
      "here in 2\n",
      "current step  3\n",
      "current_no_of_three 0\n",
      "current no added of three  1\n",
      "1\n",
      "******************* no of three 1\n",
      "here in 2\n",
      "current step  3\n",
      "current_no_of_three 1\n",
      "current no added of three  2\n",
      "1\n",
      "current step  2\n",
      "current_no_of_three 1\n",
      "current no added of three  1\n",
      "1\n",
      "current step  1\n",
      "current_no_of_three 1\n",
      "current no added of three  1\n",
      "1\n",
      "******************* no of three 1\n",
      "here in 2\n",
      "current step  3\n",
      "current_no_of_three 1\n",
      "current no added of three  2\n",
      "1\n",
      "current step  2\n",
      "current_no_of_three 1\n",
      "current no added of three  1\n",
      "1\n",
      "current step  1\n",
      "current_no_of_three 1\n",
      "current no added of three  1\n",
      "1\n",
      "current step  2\n",
      "current_no_of_three 0\n",
      "current no added of three  0\n",
      "1\n",
      "******************* no of three 0\n",
      "here in 2\n",
      "current step  3\n",
      "current_no_of_three 0\n",
      "current no added of three  1\n",
      "1\n",
      "current step  2\n",
      "current_no_of_three 0\n",
      "current no added of three  0\n",
      "1\n",
      "******************* no of three 0\n",
      "here in 2\n",
      "current step  3\n",
      "current_no_of_three 0\n",
      "current no added of three  1\n",
      "1\n",
      "current step  2\n",
      "current_no_of_three 0\n",
      "current no added of three  0\n",
      "1\n",
      "current step  1\n",
      "current_no_of_three 0\n",
      "current no added of three  0\n",
      "1\n",
      "current step  1\n",
      "current_no_of_three 0\n",
      "current no added of three  0\n",
      "1\n",
      "******************* no of three 0\n",
      "here in 2\n",
      "current step  3\n",
      "current_no_of_three 0\n",
      "current no added of three  1\n",
      "1\n",
      "current step  2\n",
      "current_no_of_three 0\n",
      "current no added of three  0\n",
      "1\n",
      "current step  1\n",
      "current_no_of_three 0\n",
      "current no added of three  0\n",
      "1\n",
      "******************* no of three 0\n",
      "here in 2\n",
      "current step  3\n",
      "current_no_of_three 0\n",
      "current no added of three  1\n",
      "1\n",
      "current step  2\n",
      "current_no_of_three 0\n",
      "current no added of three  0\n",
      "1\n",
      "current step  1\n",
      "current_no_of_three 0\n",
      "current no added of three  0\n",
      "1\n",
      "current step  1\n",
      "current_no_of_three 0\n",
      "current no added of three  0\n",
      "1\n",
      "******************* no of three 0\n",
      "here in 2\n",
      "current step  3\n",
      "current_no_of_three 0\n",
      "current no added of three  1\n",
      "1\n",
      "******************* no of three 1\n",
      "here in 2\n",
      "current step  3\n",
      "current_no_of_three 1\n",
      "current no added of three  2\n",
      "1\n",
      "current step  2\n",
      "current_no_of_three 1\n",
      "current no added of three  1\n",
      "1\n",
      "current step  1\n",
      "current_no_of_three 1\n",
      "current no added of three  1\n",
      "1\n",
      "current step  2\n",
      "current_no_of_three 0\n",
      "current no added of three  0\n",
      "1\n",
      "******************* no of three 0\n",
      "here in 2\n",
      "current step  3\n",
      "current_no_of_three 0\n",
      "current no added of three  1\n",
      "1\n",
      "current step  2\n",
      "current_no_of_three 0\n",
      "current no added of three  0\n",
      "1\n",
      "current step  1\n",
      "current_no_of_three 0\n",
      "current no added of three  0\n",
      "1\n",
      "******************* no of three 0\n",
      "here in 2\n",
      "current step  3\n",
      "current_no_of_three 0\n",
      "current no added of three  1\n",
      "1\n",
      "current step  2\n",
      "current_no_of_three 0\n",
      "current no added of three  0\n",
      "1\n",
      "current step  1\n",
      "current_no_of_three 0\n",
      "current no added of three  0\n",
      "1\n",
      "current step  1\n",
      "current_no_of_three 0\n",
      "current no added of three  0\n",
      "1\n",
      "******************* no of three 0\n",
      "here in 2\n",
      "current step  3\n",
      "current_no_of_three 0\n",
      "current no added of three  1\n",
      "1\n",
      "current step  2\n",
      "current_no_of_three 0\n",
      "current no added of three  0\n",
      "1\n",
      "******************* no of three 0\n",
      "here in 2\n",
      "current step  3\n",
      "current_no_of_three 0\n",
      "current no added of three  1\n",
      "1\n",
      "current step  2\n",
      "current_no_of_three 0\n",
      "current no added of three  0\n",
      "1\n",
      "current step  1\n",
      "current_no_of_three 0\n",
      "current no added of three  0\n",
      "1\n",
      "current step  1\n",
      "current_no_of_three 0\n",
      "current no added of three  0\n",
      "1\n",
      "******************* no of three 0\n",
      "here in 2\n",
      "current step  3\n",
      "current_no_of_three 0\n",
      "current no added of three  1\n",
      "1\n",
      "current step  2\n",
      "current_no_of_three 0\n",
      "current no added of three  0\n",
      "1\n",
      "current step  1\n",
      "current_no_of_three 0\n",
      "current no added of three  0\n",
      "1\n",
      "******************* no of three 0\n",
      "here in 2\n",
      "current step  3\n",
      "current_no_of_three 0\n",
      "current no added of three  1\n",
      "1\n",
      "current step  2\n",
      "current_no_of_three 0\n",
      "current no added of three  0\n",
      "1\n",
      "current step  1\n",
      "current_no_of_three 0\n",
      "current no added of three  0\n",
      "1\n",
      "44\n"
     ]
    }
   ],
   "source": [
    "def findStep( n, step, no_of_three, K) :\n",
    "    print('current step ', step)\n",
    "    print('current_no_of_three',no_of_three )\n",
    "    if(step == 3):\n",
    "        no_of_three = no_of_three + 1\n",
    "    print('current no added of three ', no_of_three)\n",
    "    print(K)\n",
    "    n = n - step\n",
    "    if (n == 1 or n == 0) : \n",
    "        return 1\n",
    "    elif (n == 2) : \n",
    "        return 2\n",
    "      \n",
    "    else : \n",
    "        print('******************* no of three', no_of_three)\n",
    "        if(no_of_three > K):\n",
    "            print('here 888888888888888888888888888888888')\n",
    "            return findStep(n ,2 ,no_of_three, K) + findStep(n ,1, no_of_three, K)\n",
    "        else:\n",
    "            print('here in 2')\n",
    "            return findStep(n , 3, no_of_three, K) + findStep(n ,2 ,no_of_three, K) + findStep(n ,1, no_of_three, K)        \n",
    "  \n",
    "  \n",
    "# Driver code \n",
    "n = 7\n",
    "k=1\n",
    "print(findStep(n,0,0,k)) "
   ]
  },
  {
   "cell_type": "code",
   "execution_count": 60,
   "metadata": {},
   "outputs": [
    {
     "name": "stdout",
     "output_type": "stream",
     "text": [
      "44\n"
     ]
    }
   ],
   "source": [
    "def findStep( n, step, k, three_count) : \n",
    "    n = n-step\n",
    "    if(step ==3):\n",
    "        three_count=three_count+1\n",
    "    if (n == 1 or n == 0) : \n",
    "        return 1\n",
    "    elif (n == 2) : \n",
    "        return 2\n",
    "      \n",
    "    else : \n",
    "        if(three_count <= k):\n",
    "            return findStep(n ,3,k, three_count) + findStep(n ,2,k, three_count) + findStep(n, 1,k, three_count)  \n",
    "        else:\n",
    "            return  findStep(n ,2,k, three_count) + findStep(n, 1,k, three_count)  \n",
    "  \n",
    "  \n",
    "# Driver code \n",
    "n = 7\n",
    "k= 3\n",
    "print(findStep(n,0,k, 1)) "
   ]
  },
  {
   "cell_type": "code",
   "execution_count": 67,
   "metadata": {},
   "outputs": [
    {
     "name": "stdout",
     "output_type": "stream",
     "text": [
      "44\n",
      "0.0\n",
      "7\n",
      "0.0\n",
      "4\n",
      "0.000988006591796875\n",
      "41\n",
      "0.0\n",
      "2\n",
      "0.0\n"
     ]
    }
   ],
   "source": [
    "step0 = time.time()\n",
    "print(findStep(7,0,3, 1))\n",
    "step1 = time.time()\n",
    "print(step1-step0)\n",
    "print(findStep(4,0,2, 1)) \n",
    "step2 = time.time()\n",
    "print(step2-step1)\n",
    "print(findStep(3,0,3, 1)) \n",
    "step3 = time.time()\n",
    "print(step3-step2)\n",
    "print(findStep(7,0,1, 1)) \n",
    "step4 = time.time()\n",
    "print(step4-step3)\n",
    "print(findStep(2,0,3, 1)) \n",
    "step5 = time.time()\n",
    "print(step5-step4)"
   ]
  },
  {
   "cell_type": "code",
   "execution_count": null,
   "metadata": {},
   "outputs": [],
   "source": [
    "def countWays(n) : \n",
    "    res = [0] * (n + 1) \n",
    "    res[0] = 1\n",
    "    res[1] = 1\n",
    "    res[2] = 2\n",
    "      \n",
    "    for i in range(3, n + 1) : \n",
    "        res[i] = res[i - 1] + res[i - 2] + res[i - 3] \n",
    "      \n",
    "    return res[n] \n",
    "  \n",
    "# Driver code \n",
    "n = 4\n",
    "print(countWays(n)) "
   ]
  },
  {
   "cell_type": "code",
   "execution_count": 68,
   "metadata": {},
   "outputs": [],
   "source": [
    "r = [0]*2"
   ]
  },
  {
   "cell_type": "code",
   "execution_count": 69,
   "metadata": {},
   "outputs": [
    {
     "data": {
      "text/plain": [
       "[0, 0]"
      ]
     },
     "execution_count": 69,
     "metadata": {},
     "output_type": "execute_result"
    }
   ],
   "source": [
    "r"
   ]
  },
  {
   "cell_type": "code",
   "execution_count": null,
   "metadata": {},
   "outputs": [],
   "source": []
  },
  {
   "cell_type": "code",
   "execution_count": null,
   "metadata": {},
   "outputs": [],
   "source": []
  },
  {
   "cell_type": "code",
   "execution_count": 25,
   "metadata": {},
   "outputs": [],
   "source": [
    "A = [1,2,3,4,5]\n",
    "B = [3,2,1]\n",
    "\n",
    "def getMinInsertions(A,B):    \n",
    "    count = 0\n",
    "    flag = 0\n",
    "    for i in range(len(B)):\n",
    "        for j in range(len(A)):\n",
    "            if (A[j]==B[i]):\n",
    "                print('match', A[j], B[i])\n",
    "                count = count+1\n",
    "                A[:j] = [-1]*len(A[:j])\n",
    "                #A[j] = -1\n",
    "                #print(A)\n",
    "                #print('count ',count)\n",
    "                if(count==0):\n",
    "                    flag = 1\n",
    "                break\n",
    "        if(flag ==1):\n",
    "            break\n",
    "    print(A)\n",
    "    return count"
   ]
  },
  {
   "cell_type": "code",
   "execution_count": 26,
   "metadata": {},
   "outputs": [
    {
     "name": "stdout",
     "output_type": "stream",
     "text": [
      "match 3 3\n",
      "[-1, -1, 3, 4, 5]\n"
     ]
    },
    {
     "data": {
      "text/plain": [
       "2"
      ]
     },
     "execution_count": 26,
     "metadata": {},
     "output_type": "execute_result"
    }
   ],
   "source": [
    "getMinInsertions(A,B)"
   ]
  },
  {
   "cell_type": "code",
   "execution_count": 39,
   "metadata": {},
   "outputs": [],
   "source": [
    "A = [1,2,3,4,5]\n",
    "B = [3,2,1]\n",
    "\n",
    "def getMinInsertions(A,B):    \n",
    "    count = 0\n",
    "    for i in range(len(B)):\n",
    "        for j in range(len(A)):\n",
    "            if (A[j]==B[i]):\n",
    "                print('match', A[j], B[i])\n",
    "                count = count+1\n",
    "                A[:j] = [-1]*len(A[:j])\n",
    "                #A[j] = -2\n",
    "                break\n",
    "    print(A)\n",
    "    return len(B)-count"
   ]
  },
  {
   "cell_type": "code",
   "execution_count": 40,
   "metadata": {},
   "outputs": [
    {
     "name": "stdout",
     "output_type": "stream",
     "text": [
      "match 3 3\n",
      "[-1, -1, 3, 4, 5]\n"
     ]
    },
    {
     "data": {
      "text/plain": [
       "2"
      ]
     },
     "execution_count": 40,
     "metadata": {},
     "output_type": "execute_result"
    }
   ],
   "source": [
    "getMinInsertions(A,B)"
   ]
  },
  {
   "cell_type": "code",
   "execution_count": 41,
   "metadata": {},
   "outputs": [
    {
     "name": "stdout",
     "output_type": "stream",
     "text": [
      "2\n"
     ]
    }
   ],
   "source": [
    "# Python 3 program to find minimum changes \n",
    "# required to make two arrays identical \n",
    "  \n",
    "N = 100010\n",
    "  \n",
    "# 'id':stores parent of a node \n",
    "# 'sz':stores size of a DSU tree \n",
    "ID = [0 for i in range(N)] \n",
    "sz = [0 for i in range(N)] \n",
    "  \n",
    "# function to assign root \n",
    "def Root(idx): \n",
    "    i = idx \n",
    "    while i != ID[i]: \n",
    "        ID[i], i = ID[ID[i]], ID[i] \n",
    "    return i \n",
    "  \n",
    "# Function to find Union \n",
    "def Union(a, b): \n",
    "    i, j = Root(a), Root(b) \n",
    "      \n",
    "    if i != j: \n",
    "        if sz[i] >= sz[j]: \n",
    "            ID[j] = i \n",
    "            sz[i] += sz[j] \n",
    "            sz[j] = 0\n",
    "        else: \n",
    "            ID[i] = j \n",
    "            sz[j] += sz[i] \n",
    "            sz[i] = 0\n",
    "  \n",
    "# function to find minimum changes \n",
    "# reqired to make both array equal \n",
    "def minChange(n, a, b): \n",
    "      \n",
    "    # sets as single elements \n",
    "    for i in range(N): \n",
    "        ID[i] = i \n",
    "        sz[i] = 1\n",
    "          \n",
    "    # Combine items if they belong  \n",
    "    # to differnet sets \n",
    "    for i in range(n): \n",
    "          \n",
    "        # true if both elements have \n",
    "        # different root \n",
    "        if Root(a[i]) != Root(b[i]): \n",
    "            Union(a[i], b[i]) \n",
    "      \n",
    "    # find sum sizes of all sets formed \n",
    "    ans = 0\n",
    "    for i in range(n): \n",
    "        if ID[i] == i: \n",
    "            ans += (sz[i] - 1) \n",
    "      \n",
    "    return ans \n",
    "      \n",
    "# Driver Code \n",
    "a = [2, 1, 1, 3, 5] \n",
    "b = [1, 2, 2, 4, 5] \n",
    "n = len(a) \n",
    "  \n",
    "print(minChange(n, a, b)) \n",
    "  \n",
    "# This code is contributed  \n",
    "# by Mohit kumar 29 (IIIT gwalior)"
   ]
  },
  {
   "cell_type": "code",
   "execution_count": 1,
   "metadata": {},
   "outputs": [],
   "source": [
    "import numpy as np\n",
    "def softmaxloss(w1, w2, w3, b1, b2, b3, x, c):\n",
    "    if(c==1):\n",
    "        return -np.log( np.exp(3*w1+b1) / (np.exp(3*w1+b1)+np.exp(3*w2+b2)+np.exp(3*w3+b3))  )\n",
    "\n",
    "    if(c==2):\n",
    "        return -np.log( np.exp(3*w2+b2) / (np.exp(3*w1+b1)+np.exp(3*w2+b2)+np.exp(3*w3+b3))  )\n",
    "\n",
    "    if(c==2):\n",
    "        return -np.log( np.exp(3*w3+b3) / (np.exp(3*w1+b1)+np.exp(3*w2+b2)+np.exp(3*w3+b3))  )\n"
   ]
  },
  {
   "cell_type": "code",
   "execution_count": 5,
   "metadata": {},
   "outputs": [
    {
     "name": "stdout",
     "output_type": "stream",
     "text": [
      "4.018479302594658\n",
      "4.018479302594658\n",
      "0.018479302594657524\n",
      "0.018479302594657524\n",
      "None\n"
     ]
    },
    {
     "ename": "TypeError",
     "evalue": "unsupported operand type(s) for +: 'float' and 'NoneType'",
     "output_type": "error",
     "traceback": [
      "\u001b[1;31m---------------------------------------------------------------------------\u001b[0m",
      "\u001b[1;31mTypeError\u001b[0m                                 Traceback (most recent call last)",
      "\u001b[1;32m<ipython-input-5-21054558bc7f>\u001b[0m in \u001b[0;36m<module>\u001b[1;34m\u001b[0m\n\u001b[0;32m     11\u001b[0m \u001b[1;32mfor\u001b[0m \u001b[0mx\u001b[0m\u001b[1;33m,\u001b[0m\u001b[0mc\u001b[0m \u001b[1;32min\u001b[0m \u001b[0mdata\u001b[0m\u001b[1;33m:\u001b[0m\u001b[1;33m\u001b[0m\u001b[0m\n\u001b[0;32m     12\u001b[0m     \u001b[0mprint\u001b[0m\u001b[1;33m(\u001b[0m\u001b[0msoftmaxloss\u001b[0m\u001b[1;33m(\u001b[0m\u001b[0mw1\u001b[0m\u001b[1;33m,\u001b[0m \u001b[0mw2\u001b[0m\u001b[1;33m,\u001b[0m \u001b[0mw3\u001b[0m\u001b[1;33m,\u001b[0m \u001b[0mb1\u001b[0m\u001b[1;33m,\u001b[0m \u001b[0mb2\u001b[0m\u001b[1;33m,\u001b[0m \u001b[0mb3\u001b[0m\u001b[1;33m,\u001b[0m \u001b[0mx\u001b[0m\u001b[1;33m,\u001b[0m \u001b[0mc\u001b[0m\u001b[1;33m)\u001b[0m\u001b[1;33m)\u001b[0m\u001b[1;33m\u001b[0m\u001b[0m\n\u001b[1;32m---> 13\u001b[1;33m     \u001b[0mloss\u001b[0m \u001b[1;33m=\u001b[0m \u001b[0mloss\u001b[0m \u001b[1;33m+\u001b[0m \u001b[0msoftmaxloss\u001b[0m\u001b[1;33m(\u001b[0m\u001b[0mw1\u001b[0m\u001b[1;33m,\u001b[0m \u001b[0mw2\u001b[0m\u001b[1;33m,\u001b[0m \u001b[0mw3\u001b[0m\u001b[1;33m,\u001b[0m \u001b[0mb1\u001b[0m\u001b[1;33m,\u001b[0m \u001b[0mb2\u001b[0m\u001b[1;33m,\u001b[0m \u001b[0mb3\u001b[0m\u001b[1;33m,\u001b[0m \u001b[0mx\u001b[0m\u001b[1;33m,\u001b[0m \u001b[0mc\u001b[0m\u001b[1;33m)\u001b[0m\u001b[1;33m\u001b[0m\u001b[0m\n\u001b[0m\u001b[0;32m     14\u001b[0m \u001b[1;33m\u001b[0m\u001b[0m\n",
      "\u001b[1;31mTypeError\u001b[0m: unsupported operand type(s) for +: 'float' and 'NoneType'"
     ]
    }
   ],
   "source": [
    "w1 = -1\n",
    "w2 = 0\n",
    "w3 = 1\n",
    "b1 = 4\n",
    "b2 = 5\n",
    "b3 = -6\n",
    "\n",
    "data = [  (3,1) ,(2,1), (5,2), (5,2) ,(7,3) ,(8,3)  ]\n",
    "\n",
    "loss = 0\n",
    "for x,c in data:\n",
    "    print(softmaxloss(w1, w2, w3, b1, b2, b3, x, c))\n",
    "    loss = loss + softmaxloss(w1, w2, w3, b1, b2, b3, x, c)\n",
    "    \n"
   ]
  },
  {
   "cell_type": "code",
   "execution_count": 6,
   "metadata": {},
   "outputs": [
    {
     "name": "stdout",
     "output_type": "stream",
     "text": [
      "[9.99954602e-01 4.53978687e-05 9.35719815e-14]\n",
      "[9.93307147e-01 6.69285091e-03 2.04735862e-09]\n",
      "[0.00664835 0.98670329 0.00664835]\n",
      "[0.00664835 0.98670329 0.00664835]\n",
      "[2.04735862e-09 6.69285091e-03 9.93307147e-01]\n",
      "[9.35719815e-14 4.53978687e-05 9.99954602e-01]\n",
      "0.04029330231447044\n"
     ]
    }
   ],
   "source": [
    "from scipy.special import softmax\n",
    "loss = 0\n",
    "xmat = [2,3,5,5,7,8]\n",
    "ymat = [1,1,2,2,3,3]\n",
    "\n",
    "for i in range(6):\n",
    "    print(softmax([-5*xmat[i]+25,5,5*xmat[i]-25]))\n",
    "    loss += -np.log(softmax([-5*xmat[i]+25,5,5*xmat[i]-25])[ymat[i]-1])\n",
    "print(loss)\n",
    "\n",
    "\n",
    "# if we increase W1,w2,w3 b1,b2,b3 proportionately then loss can be made zero"
   ]
  },
  {
   "cell_type": "code",
   "execution_count": 24,
   "metadata": {},
   "outputs": [
    {
     "name": "stdout",
     "output_type": "stream",
     "text": [
      "[9.99999994e-01 5.60279641e-09 8.75651071e-27]\n",
      "[9.99876605e-01 1.23394576e-04 4.24783003e-18]\n",
      "[1.67011429e-05 9.99966598e-01 1.67011429e-05]\n",
      "[1.67011429e-05 9.99966598e-01 1.67011429e-05]\n",
      "[4.24783003e-18 1.23394576e-04 9.99876605e-01]\n",
      "[8.75651071e-27 5.60279641e-09 9.99999994e-01]\n",
      "0.00031362127243834834\n"
     ]
    }
   ],
   "source": [
    "a =10\n",
    "w1 = -1 * a\n",
    "w2 = 0\n",
    "w3 = 1 * a\n",
    "b1 = 4 *a\n",
    "b2 = 1\n",
    "b3 = -6 *a\n",
    "\n",
    "\n",
    "from scipy.special import softmax\n",
    "loss = 0\n",
    "xmat = [2,3,5,5,7,8]\n",
    "ymat = [1,1,2,2,3,3]\n",
    "\n",
    "for i in range(6):\n",
    "    print(softmax([w1*xmat[i]+b1,b2,w3*xmat[i]+b3]))\n",
    "    loss += -np.log(softmax([w1*xmat[i]+b1,b2,w3*xmat[i]+b3])[ymat[i]-1])\n",
    "print(loss)\n",
    "\n",
    "\n",
    "# if we increase W1,w2,w3 b1,b2,b3 proportionately then loss can be made zero"
   ]
  },
  {
   "cell_type": "code",
   "execution_count": 25,
   "metadata": {},
   "outputs": [
    {
     "name": "stdout",
     "output_type": "stream",
     "text": [
      "factor = 4.15 loss is 0.05575792045788841\n",
      "[[-2.935 -2.935]\n",
      " [ 0.     0.   ]\n",
      " [ 0.     4.15 ]\n",
      " [ 4.15   0.   ]]\n",
      "[ 17.345   4.15  -16.6   -18.675]\n"
     ]
    }
   ],
   "source": [
    "xmat2 = np.array([[1,1],[2,0],[3,4],[4,3],[3,6],[4,6],[7,2],[7,3]])\n",
    "ymat2 = np.array([1,1,2,2,3,3,4,4])\n",
    "\n",
    "w = np.array([[-1/1.414,-1/1.414],[0,0],[0,1],[1,0]])\n",
    "b = np.array([5.91/1.414,1,-4,-4.5])\n",
    "\n",
    "factors = [4.15]\n",
    "\n",
    "for fac in factors:\n",
    "    loss2=0\n",
    "    wu = fac * w\n",
    "    bu = fac * b\n",
    "    for i in range(8):\n",
    "        loss2 += -np.log(softmax([np.matmul(wu[0],xmat2[i])+bu[0],np.matmul(wu[1],xmat2[i])+bu[1]\n",
    "                    ,np.matmul(wu[2],xmat2[i])+bu[2],np.matmul(wu[3],xmat2[i])+bu[3]])[ymat2[i]-1])\n",
    "    print(\"factor = \"+str(fac)+\" loss is \"+ str(loss2))\n",
    "    print(np.round(wu,3))\n",
    "    print(np.round(bu,3))"
   ]
  },
  {
   "cell_type": "code",
   "execution_count": 31,
   "metadata": {},
   "outputs": [
    {
     "name": "stdout",
     "output_type": "stream",
     "text": [
      "factor = 5 loss is 0.033759861370658055\n",
      "[[-5 -5]\n",
      " [ 0  0]\n",
      " [ 0  5]\n",
      " [ 5  0]]\n",
      "[ 25   5 -20 -25]\n"
     ]
    }
   ],
   "source": [
    "xmat2 = np.array([[1,1],[2,0],[3,4],[4,3],[3,6],[4,6],[7,2],[7,3]])\n",
    "ymat2 = np.array([1,1,2,2,3,3,4,4])\n",
    "\n",
    "w = np.array([[-1,-1],[0,0],[0,1],[1,0]])\n",
    "b = np.array([5,1,-4,-5])\n",
    "\n",
    "factors = [5]\n",
    "\n",
    "for fac in factors:\n",
    "    loss2=0\n",
    "    wu = fac * w\n",
    "    bu = fac * b\n",
    "    for i in range(8):\n",
    "        loss2 += -np.log(softmax([np.matmul(wu[0],xmat2[i])+bu[0],np.matmul(wu[1],xmat2[i])+bu[1]\n",
    "                    ,np.matmul(wu[2],xmat2[i])+bu[2],np.matmul(wu[3],xmat2[i])+bu[3]])[ymat2[i]-1])\n",
    "    print(\"factor = \"+str(fac)+\" loss is \"+ str(loss2))\n",
    "    print(np.round(wu,3))\n",
    "    print(np.round(bu,3))\n",
    "    \n"
   ]
  },
  {
   "cell_type": "code",
   "execution_count": 40,
   "metadata": {},
   "outputs": [],
   "source": [
    "#import matplotlib.pyplot as plt\n",
    "import pandas as pd\n",
    "dataset = pd.DataFrame(xmat2, columns = ['x1','x2'])\n",
    "dataset['class'] = ymat2"
   ]
  },
  {
   "cell_type": "code",
   "execution_count": 41,
   "metadata": {},
   "outputs": [
    {
     "data": {
      "text/html": [
       "<div>\n",
       "<style scoped>\n",
       "    .dataframe tbody tr th:only-of-type {\n",
       "        vertical-align: middle;\n",
       "    }\n",
       "\n",
       "    .dataframe tbody tr th {\n",
       "        vertical-align: top;\n",
       "    }\n",
       "\n",
       "    .dataframe thead th {\n",
       "        text-align: right;\n",
       "    }\n",
       "</style>\n",
       "<table border=\"1\" class=\"dataframe\">\n",
       "  <thead>\n",
       "    <tr style=\"text-align: right;\">\n",
       "      <th></th>\n",
       "      <th>x1</th>\n",
       "      <th>x2</th>\n",
       "      <th>class</th>\n",
       "    </tr>\n",
       "  </thead>\n",
       "  <tbody>\n",
       "    <tr>\n",
       "      <th>0</th>\n",
       "      <td>1</td>\n",
       "      <td>1</td>\n",
       "      <td>1</td>\n",
       "    </tr>\n",
       "    <tr>\n",
       "      <th>1</th>\n",
       "      <td>2</td>\n",
       "      <td>0</td>\n",
       "      <td>1</td>\n",
       "    </tr>\n",
       "    <tr>\n",
       "      <th>2</th>\n",
       "      <td>3</td>\n",
       "      <td>4</td>\n",
       "      <td>2</td>\n",
       "    </tr>\n",
       "    <tr>\n",
       "      <th>3</th>\n",
       "      <td>4</td>\n",
       "      <td>3</td>\n",
       "      <td>2</td>\n",
       "    </tr>\n",
       "    <tr>\n",
       "      <th>4</th>\n",
       "      <td>3</td>\n",
       "      <td>6</td>\n",
       "      <td>3</td>\n",
       "    </tr>\n",
       "    <tr>\n",
       "      <th>5</th>\n",
       "      <td>4</td>\n",
       "      <td>6</td>\n",
       "      <td>3</td>\n",
       "    </tr>\n",
       "    <tr>\n",
       "      <th>6</th>\n",
       "      <td>7</td>\n",
       "      <td>2</td>\n",
       "      <td>4</td>\n",
       "    </tr>\n",
       "    <tr>\n",
       "      <th>7</th>\n",
       "      <td>7</td>\n",
       "      <td>3</td>\n",
       "      <td>4</td>\n",
       "    </tr>\n",
       "  </tbody>\n",
       "</table>\n",
       "</div>"
      ],
      "text/plain": [
       "   x1  x2  class\n",
       "0   1   1      1\n",
       "1   2   0      1\n",
       "2   3   4      2\n",
       "3   4   3      2\n",
       "4   3   6      3\n",
       "5   4   6      3\n",
       "6   7   2      4\n",
       "7   7   3      4"
      ]
     },
     "execution_count": 41,
     "metadata": {},
     "output_type": "execute_result"
    }
   ],
   "source": [
    "dataset"
   ]
  },
  {
   "cell_type": "code",
   "execution_count": 43,
   "metadata": {},
   "outputs": [
    {
     "data": {
      "image/png": "[encoded data removed]",
      "text/plain": [
       "<Figure size 1080x720 with 1 Axes>"
      ]
     },
     "metadata": {
      "needs_background": "light"
     },
     "output_type": "display_data"
    }
   ],
   "source": [
    "import matplotlib.pyplot as plt \n",
    "import numpy as np    \n",
    "\n",
    "def abline(slope, intercept):\n",
    "    \"\"\"Plot a line from slope and intercept\"\"\"\n",
    "    axes = plt.gca()\n",
    "    x_vals = np.array(axes.get_xlim())\n",
    "    y_vals = intercept + slope * x_vals\n",
    "    plt.plot(x_vals, y_vals, '--')\n",
    "\n",
    "\n",
    "import seaborn as sns\n",
    "sns.lmplot('x1', 'x2', dataset, hue='class', fit_reg=False)\n",
    "fig = plt.gcf()\n",
    "fig.set_size_inches(15, 10)\n",
    "for i\n",
    "plt.show()"
   ]
  },
  {
   "cell_type": "code",
   "execution_count": 67,
   "metadata": {},
   "outputs": [
    {
     "name": "stdout",
     "output_type": "stream",
     "text": [
      "iteration  0\n",
      "gamma : \n",
      "[0.97  0.043 0.783 0.286 0.286 0.005 0.043 0.286 0.043 0.043 0.97  0.783\n",
      " 0.97  0.997 0.286 0.97  0.043 0.783 0.97  0.783]\n",
      "mu :  [0.169 0.212 0.417 0.639]\n",
      "alpha :  0.517\n",
      "------------------------------------\n",
      "iteration  1\n",
      "gamma : \n",
      "[0.666 0.056 0.449 0.076 0.076 0.205 0.056 0.076 0.056 0.056 0.989 0.984\n",
      " 0.989 0.952 0.862 0.989 0.719 0.984 0.989 0.984]\n",
      "mu :  [0.122 0.158 0.469 0.809]\n",
      "alpha :  0.561\n",
      "------------------------------------\n",
      "iteration  2\n",
      "gamma : \n",
      "[0.529 0.019 0.352 0.021 0.021 0.279 0.019 0.021 0.019 0.019 0.998 0.998\n",
      " 0.998 0.966 0.953 0.998 0.907 0.998 0.998 0.998]\n",
      "mu :  [0.112 0.134 0.474 0.857]\n",
      "alpha :  0.555\n",
      "------------------------------------\n",
      "iteration  3\n",
      "gamma : \n",
      "[0.406 0.01  0.289 0.011 0.011 0.281 0.01  0.011 0.01  0.01  0.999 0.999\n",
      " 0.999 0.962 0.961 0.999 0.936 0.999 0.999 0.999]\n",
      "mu :  [0.113 0.127 0.477 0.872]\n",
      "alpha :  0.545\n",
      "------------------------------------\n",
      "iteration  4\n",
      "gamma : \n",
      "[0.336 0.007 0.261 0.008 0.008 0.276 0.007 0.008 0.007 0.007 0.999 0.999\n",
      " 0.999 0.956 0.959 0.999 0.943 0.999 0.999 0.999]\n",
      "mu :  [0.114 0.124 0.48  0.878]\n",
      "alpha :  0.539\n",
      "------------------------------------\n",
      "iteration  5\n",
      "gamma : \n",
      "[0.302 0.007 0.251 0.007 0.007 0.273 0.007 0.007 0.007 0.007 0.999 0.999\n",
      " 0.999 0.953 0.957 0.999 0.946 0.999 0.999 0.999]\n",
      "mu :  [0.116 0.122 0.481 0.881]\n",
      "alpha :  0.536\n",
      "------------------------------------\n",
      "iteration  6\n",
      "gamma : \n",
      "[0.286 0.006 0.248 0.007 0.007 0.272 0.006 0.007 0.006 0.006 0.999 0.999\n",
      " 0.999 0.951 0.956 0.999 0.947 0.999 0.999 0.999]\n",
      "mu :  [0.116 0.121 0.482 0.882]\n",
      "alpha :  0.535\n",
      "------------------------------------\n",
      "iteration  7\n",
      "gamma : \n",
      "[0.279 0.006 0.247 0.007 0.007 0.272 0.006 0.007 0.006 0.006 0.999 0.999\n",
      " 0.999 0.95  0.956 0.999 0.948 0.999 0.999 0.999]\n",
      "mu :  [0.117 0.121 0.482 0.882]\n",
      "alpha :  0.534\n",
      "------------------------------------\n",
      "iteration  8\n",
      "gamma : \n",
      "[0.275 0.006 0.247 0.007 0.007 0.272 0.006 0.007 0.006 0.006 0.999 0.999\n",
      " 0.999 0.949 0.955 0.999 0.949 0.999 0.999 0.999]\n",
      "mu :  [0.117 0.12  0.482 0.883]\n",
      "alpha :  0.534\n",
      "------------------------------------\n",
      "iteration  9\n",
      "gamma : \n",
      "[0.273 0.006 0.247 0.007 0.007 0.272 0.006 0.007 0.006 0.006 0.999 0.999\n",
      " 0.999 0.949 0.955 0.999 0.949 0.999 0.999 0.999]\n",
      "mu :  [0.117 0.12  0.483 0.883]\n",
      "alpha :  0.534\n",
      "------------------------------------\n"
     ]
    }
   ],
   "source": [
    "X=np.array([ [1, 0, 0, 0, 0, 0, 0, 0, 0, 0, 1, 1, 1, 1, 1, 1, 0, 1, 1, 1],\n",
    "             [0, 0, 1, 0, 0, 0, 0, 0, 0, 0, 1, 1, 1, 1, 0, 1, 1, 1, 1, 1],\n",
    "             [1, 0, 0, 1, 1, 1, 0, 1, 0, 0, 1, 0, 1, 0, 1, 1, 0, 0, 1, 0],\n",
    "             [1, 1, 1, 1, 1, 0, 1, 1, 1, 1, 0, 0, 0, 1, 0, 0, 0, 0, 0, 0] ])\n",
    "\n",
    "mu = np.array([0.1,0.1,0.1,0.1])\n",
    "alpha = 0.5\n",
    "#gamma = []\n",
    "\n",
    "for iteration in range(10):\n",
    "    print('iteration ', iteration)\n",
    "    gamma = []\n",
    "    ## E step\n",
    "    for i in range(20):\n",
    "        x= X[:,i]\n",
    "        e1 = alpha * mu[0]**(1-x[0]) * (1-mu[0])**x[0] * mu[1]**(1-x[1]) * (1-mu[1])**x[1] * mu[2]**(1-x[2]) * \\\n",
    "              (1-mu[2])**x[2] * mu[3]**(1-x[3]) * (1-mu[3])**x[3]\n",
    "        e2 = (1-alpha) * (mu[0]**x[0]) * (1-mu[0])**(1-x[0])  *   (1-alpha) * (mu[1]**x[1]) * (1-mu[1])**(1-x[1])  *  \\\n",
    "               (1-alpha) * (mu[3]**x[3]) * (1-mu[3])**(1-x[3]) \n",
    "        gamma.append(e1/(e1+e2))\n",
    "    print('gamma : ')\n",
    "    print(np.round(gamma,3))\n",
    "\n",
    "\n",
    "\n",
    "    ## M step\n",
    "    for j in range(4):\n",
    "        sum_mu = 0\n",
    "        for i in range(20):\n",
    "            sum_mu = sum_mu + gamma[i] + X[j,i] - 2 * gamma[i] * X[j,i]\n",
    "        mu[j] = sum_mu/20\n",
    "\n",
    "        sum_alpha = 0\n",
    "        for i in range(20):\n",
    "            sum_alpha = sum_alpha + gamma[i] \n",
    "        alpha = sum_alpha/20\n",
    "\n",
    "\n",
    "    print('mu : ',np.round(mu,3))\n",
    "    print('alpha : ',np.round(alpha,3))\n",
    "    print('------------------------------------')\n"
   ]
  },
  {
   "cell_type": "code",
   "execution_count": null,
   "metadata": {},
   "outputs": [],
   "source": []
  },
  {
   "cell_type": "code",
   "execution_count": null,
   "metadata": {},
   "outputs": [],
   "source": []
  }
 ],
 "metadata": {
  "kernelspec": {
   "display_name": "Python 3",
   "language": "python",
   "name": "python3"
  },
  "language_info": {
   "codemirror_mode": {
    "name": "ipython",
    "version": 3
   },
   "file_extension": ".py",
   "mimetype": "text/x-python",
   "name": "python",
   "nbconvert_exporter": "python",
   "pygments_lexer": "ipython3",
   "version": "3.6.6"
  }
 },
 "nbformat": 4,
 "nbformat_minor": 2
}
